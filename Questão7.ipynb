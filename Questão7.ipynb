{
 "cells": [
  {
   "cell_type": "code",
   "execution_count": 2,
   "metadata": {},
   "outputs": [],
   "source": [
    "import pandas as pd\n",
    "import numpy as np\n",
    "import seaborn as sns \n",
    "import matplotlib.pyplot as plt\n",
    "#matplotlib inline"
   ]
  },
  {
   "cell_type": "markdown",
   "metadata": {},
   "source": [
    "Criando o dataframe \"alunos\":\n",
    "Estou puxando de um arquivo de excel(.xlsx):\n"
   ]
  },
  {
   "cell_type": "code",
   "execution_count": 3,
   "metadata": {},
   "outputs": [],
   "source": [
    "alunos = pd.read_excel('alunos.xlsx')"
   ]
  },
  {
   "cell_type": "code",
   "execution_count": 4,
   "metadata": {
    "scrolled": false
   },
   "outputs": [
    {
     "name": "stdout",
     "output_type": "stream",
     "text": [
      "<class 'pandas.core.frame.DataFrame'>\n",
      "RangeIndex: 26 entries, 0 to 25\n",
      "Data columns (total 10 columns):\n",
      " #   Column              Non-Null Count  Dtype         \n",
      "---  ------              --------------  -----         \n",
      " 0   DRE                 26 non-null     int64         \n",
      " 1   Curso               26 non-null     object        \n",
      " 2   Nome                26 non-null     object        \n",
      " 3   Gênero              26 non-null     object        \n",
      " 4   Data de Nascimento  26 non-null     datetime64[ns]\n",
      " 5   Altura              26 non-null     int64         \n",
      " 6   Peso                26 non-null     int64         \n",
      " 7   CRA                 26 non-null     float64       \n",
      " 8   Créditos Obtidos    26 non-null     int64         \n",
      " 9   Renda               26 non-null     int64         \n",
      "dtypes: datetime64[ns](1), float64(1), int64(5), object(3)\n",
      "memory usage: 2.2+ KB\n"
     ]
    }
   ],
   "source": [
    "alunos.info()"
   ]
  },
  {
   "cell_type": "code",
   "execution_count": 87,
   "metadata": {},
   "outputs": [
    {
     "data": {
      "text/html": [
       "<div>\n",
       "<style scoped>\n",
       "    .dataframe tbody tr th:only-of-type {\n",
       "        vertical-align: middle;\n",
       "    }\n",
       "\n",
       "    .dataframe tbody tr th {\n",
       "        vertical-align: top;\n",
       "    }\n",
       "\n",
       "    .dataframe thead th {\n",
       "        text-align: right;\n",
       "    }\n",
       "</style>\n",
       "<table border=\"1\" class=\"dataframe\">\n",
       "  <thead>\n",
       "    <tr style=\"text-align: right;\">\n",
       "      <th></th>\n",
       "      <th>DRE</th>\n",
       "      <th>Curso</th>\n",
       "      <th>Nome</th>\n",
       "      <th>Gênero</th>\n",
       "      <th>Data de Nascimento</th>\n",
       "      <th>Altura</th>\n",
       "      <th>Peso</th>\n",
       "      <th>CRA</th>\n",
       "      <th>Créditos Obtidos</th>\n",
       "      <th>Renda</th>\n",
       "    </tr>\n",
       "  </thead>\n",
       "  <tbody>\n",
       "    <tr>\n",
       "      <th>0</th>\n",
       "      <td>101</td>\n",
       "      <td>Engenharia</td>\n",
       "      <td>João</td>\n",
       "      <td>M</td>\n",
       "      <td>2000-11-15</td>\n",
       "      <td>165</td>\n",
       "      <td>77</td>\n",
       "      <td>7.5</td>\n",
       "      <td>18</td>\n",
       "      <td>2000</td>\n",
       "    </tr>\n",
       "    <tr>\n",
       "      <th>1</th>\n",
       "      <td>102</td>\n",
       "      <td>Engenharia</td>\n",
       "      <td>Igor</td>\n",
       "      <td>M</td>\n",
       "      <td>1998-10-16</td>\n",
       "      <td>175</td>\n",
       "      <td>73</td>\n",
       "      <td>7.0</td>\n",
       "      <td>24</td>\n",
       "      <td>1500</td>\n",
       "    </tr>\n",
       "    <tr>\n",
       "      <th>2</th>\n",
       "      <td>103</td>\n",
       "      <td>Engenharia</td>\n",
       "      <td>Roberto</td>\n",
       "      <td>M</td>\n",
       "      <td>1996-02-23</td>\n",
       "      <td>180</td>\n",
       "      <td>89</td>\n",
       "      <td>6.5</td>\n",
       "      <td>26</td>\n",
       "      <td>0</td>\n",
       "    </tr>\n",
       "    <tr>\n",
       "      <th>3</th>\n",
       "      <td>104</td>\n",
       "      <td>Medicina</td>\n",
       "      <td>Igor</td>\n",
       "      <td>M</td>\n",
       "      <td>1999-01-25</td>\n",
       "      <td>199</td>\n",
       "      <td>95</td>\n",
       "      <td>8.0</td>\n",
       "      <td>18</td>\n",
       "      <td>1200</td>\n",
       "    </tr>\n",
       "    <tr>\n",
       "      <th>4</th>\n",
       "      <td>105</td>\n",
       "      <td>Direito</td>\n",
       "      <td>Fernando</td>\n",
       "      <td>M</td>\n",
       "      <td>1994-07-25</td>\n",
       "      <td>170</td>\n",
       "      <td>90</td>\n",
       "      <td>8.5</td>\n",
       "      <td>22</td>\n",
       "      <td>2500</td>\n",
       "    </tr>\n",
       "    <tr>\n",
       "      <th>5</th>\n",
       "      <td>106</td>\n",
       "      <td>Música</td>\n",
       "      <td>Marcelo</td>\n",
       "      <td>M</td>\n",
       "      <td>1992-07-10</td>\n",
       "      <td>166</td>\n",
       "      <td>60</td>\n",
       "      <td>9.2</td>\n",
       "      <td>24</td>\n",
       "      <td>1000</td>\n",
       "    </tr>\n",
       "    <tr>\n",
       "      <th>6</th>\n",
       "      <td>107</td>\n",
       "      <td>Direito</td>\n",
       "      <td>Júlia</td>\n",
       "      <td>F</td>\n",
       "      <td>1998-09-01</td>\n",
       "      <td>160</td>\n",
       "      <td>60</td>\n",
       "      <td>8.0</td>\n",
       "      <td>25</td>\n",
       "      <td>1500</td>\n",
       "    </tr>\n",
       "    <tr>\n",
       "      <th>7</th>\n",
       "      <td>108</td>\n",
       "      <td>Engenharia</td>\n",
       "      <td>Gabriela</td>\n",
       "      <td>F</td>\n",
       "      <td>1999-08-01</td>\n",
       "      <td>155</td>\n",
       "      <td>57</td>\n",
       "      <td>7.2</td>\n",
       "      <td>20</td>\n",
       "      <td>1300</td>\n",
       "    </tr>\n",
       "    <tr>\n",
       "      <th>8</th>\n",
       "      <td>109</td>\n",
       "      <td>Medicina</td>\n",
       "      <td>Augusto</td>\n",
       "      <td>M</td>\n",
       "      <td>2000-01-06</td>\n",
       "      <td>182</td>\n",
       "      <td>83</td>\n",
       "      <td>6.5</td>\n",
       "      <td>24</td>\n",
       "      <td>0</td>\n",
       "    </tr>\n",
       "    <tr>\n",
       "      <th>9</th>\n",
       "      <td>110</td>\n",
       "      <td>Medicina</td>\n",
       "      <td>Marcela</td>\n",
       "      <td>F</td>\n",
       "      <td>1997-12-09</td>\n",
       "      <td>180</td>\n",
       "      <td>80</td>\n",
       "      <td>7.1</td>\n",
       "      <td>22</td>\n",
       "      <td>800</td>\n",
       "    </tr>\n",
       "    <tr>\n",
       "      <th>10</th>\n",
       "      <td>111</td>\n",
       "      <td>Engenharia</td>\n",
       "      <td>Mateus</td>\n",
       "      <td>M</td>\n",
       "      <td>1999-02-08</td>\n",
       "      <td>185</td>\n",
       "      <td>79</td>\n",
       "      <td>7.3</td>\n",
       "      <td>22</td>\n",
       "      <td>1500</td>\n",
       "    </tr>\n",
       "    <tr>\n",
       "      <th>11</th>\n",
       "      <td>112</td>\n",
       "      <td>Medicina</td>\n",
       "      <td>Jonas</td>\n",
       "      <td>M</td>\n",
       "      <td>1998-12-11</td>\n",
       "      <td>172</td>\n",
       "      <td>75</td>\n",
       "      <td>8.0</td>\n",
       "      <td>19</td>\n",
       "      <td>1500</td>\n",
       "    </tr>\n",
       "    <tr>\n",
       "      <th>12</th>\n",
       "      <td>113</td>\n",
       "      <td>Engenharia</td>\n",
       "      <td>Roberta</td>\n",
       "      <td>F</td>\n",
       "      <td>2000-07-13</td>\n",
       "      <td>160</td>\n",
       "      <td>66</td>\n",
       "      <td>8.0</td>\n",
       "      <td>18</td>\n",
       "      <td>2000</td>\n",
       "    </tr>\n",
       "    <tr>\n",
       "      <th>13</th>\n",
       "      <td>114</td>\n",
       "      <td>Medicina</td>\n",
       "      <td>Angelica</td>\n",
       "      <td>F</td>\n",
       "      <td>1995-12-16</td>\n",
       "      <td>172</td>\n",
       "      <td>70</td>\n",
       "      <td>7.7</td>\n",
       "      <td>22</td>\n",
       "      <td>0</td>\n",
       "    </tr>\n",
       "    <tr>\n",
       "      <th>14</th>\n",
       "      <td>115</td>\n",
       "      <td>Música</td>\n",
       "      <td>Lucia</td>\n",
       "      <td>F</td>\n",
       "      <td>2000-01-09</td>\n",
       "      <td>164</td>\n",
       "      <td>73</td>\n",
       "      <td>9.5</td>\n",
       "      <td>20</td>\n",
       "      <td>1000</td>\n",
       "    </tr>\n",
       "    <tr>\n",
       "      <th>15</th>\n",
       "      <td>116</td>\n",
       "      <td>Direito</td>\n",
       "      <td>Patricia</td>\n",
       "      <td>F</td>\n",
       "      <td>1996-05-02</td>\n",
       "      <td>170</td>\n",
       "      <td>80</td>\n",
       "      <td>9.0</td>\n",
       "      <td>20</td>\n",
       "      <td>3000</td>\n",
       "    </tr>\n",
       "    <tr>\n",
       "      <th>16</th>\n",
       "      <td>117</td>\n",
       "      <td>Medicina</td>\n",
       "      <td>Luis</td>\n",
       "      <td>M</td>\n",
       "      <td>1998-08-07</td>\n",
       "      <td>183</td>\n",
       "      <td>90</td>\n",
       "      <td>7.5</td>\n",
       "      <td>24</td>\n",
       "      <td>1000</td>\n",
       "    </tr>\n",
       "    <tr>\n",
       "      <th>17</th>\n",
       "      <td>118</td>\n",
       "      <td>Direito</td>\n",
       "      <td>Victor</td>\n",
       "      <td>M</td>\n",
       "      <td>1999-02-22</td>\n",
       "      <td>187</td>\n",
       "      <td>97</td>\n",
       "      <td>8.0</td>\n",
       "      <td>23</td>\n",
       "      <td>0</td>\n",
       "    </tr>\n",
       "    <tr>\n",
       "      <th>18</th>\n",
       "      <td>119</td>\n",
       "      <td>Medicina</td>\n",
       "      <td>Julia</td>\n",
       "      <td>F</td>\n",
       "      <td>1995-05-28</td>\n",
       "      <td>155</td>\n",
       "      <td>63</td>\n",
       "      <td>8.0</td>\n",
       "      <td>20</td>\n",
       "      <td>0</td>\n",
       "    </tr>\n",
       "    <tr>\n",
       "      <th>19</th>\n",
       "      <td>120</td>\n",
       "      <td>Música</td>\n",
       "      <td>Romeu</td>\n",
       "      <td>M</td>\n",
       "      <td>2000-01-06</td>\n",
       "      <td>180</td>\n",
       "      <td>77</td>\n",
       "      <td>9.0</td>\n",
       "      <td>22</td>\n",
       "      <td>500</td>\n",
       "    </tr>\n",
       "    <tr>\n",
       "      <th>20</th>\n",
       "      <td>121</td>\n",
       "      <td>Medicina</td>\n",
       "      <td>Rafael</td>\n",
       "      <td>M</td>\n",
       "      <td>1997-10-11</td>\n",
       "      <td>177</td>\n",
       "      <td>80</td>\n",
       "      <td>8.0</td>\n",
       "      <td>18</td>\n",
       "      <td>1000</td>\n",
       "    </tr>\n",
       "    <tr>\n",
       "      <th>21</th>\n",
       "      <td>122</td>\n",
       "      <td>Música</td>\n",
       "      <td>Joana</td>\n",
       "      <td>F</td>\n",
       "      <td>1995-05-05</td>\n",
       "      <td>160</td>\n",
       "      <td>55</td>\n",
       "      <td>8.5</td>\n",
       "      <td>27</td>\n",
       "      <td>800</td>\n",
       "    </tr>\n",
       "    <tr>\n",
       "      <th>22</th>\n",
       "      <td>123</td>\n",
       "      <td>Direito</td>\n",
       "      <td>Mariana</td>\n",
       "      <td>F</td>\n",
       "      <td>1998-06-19</td>\n",
       "      <td>164</td>\n",
       "      <td>60</td>\n",
       "      <td>8.0</td>\n",
       "      <td>22</td>\n",
       "      <td>2200</td>\n",
       "    </tr>\n",
       "    <tr>\n",
       "      <th>23</th>\n",
       "      <td>124</td>\n",
       "      <td>Música</td>\n",
       "      <td>Drake</td>\n",
       "      <td>M</td>\n",
       "      <td>1998-12-29</td>\n",
       "      <td>190</td>\n",
       "      <td>90</td>\n",
       "      <td>7.9</td>\n",
       "      <td>25</td>\n",
       "      <td>0</td>\n",
       "    </tr>\n",
       "    <tr>\n",
       "      <th>24</th>\n",
       "      <td>125</td>\n",
       "      <td>Música</td>\n",
       "      <td>Jennifer</td>\n",
       "      <td>F</td>\n",
       "      <td>2001-11-08</td>\n",
       "      <td>177</td>\n",
       "      <td>88</td>\n",
       "      <td>9.0</td>\n",
       "      <td>23</td>\n",
       "      <td>1000</td>\n",
       "    </tr>\n",
       "    <tr>\n",
       "      <th>25</th>\n",
       "      <td>126</td>\n",
       "      <td>Engenharia</td>\n",
       "      <td>Claudia</td>\n",
       "      <td>F</td>\n",
       "      <td>1997-04-15</td>\n",
       "      <td>170</td>\n",
       "      <td>74</td>\n",
       "      <td>7.7</td>\n",
       "      <td>18</td>\n",
       "      <td>2500</td>\n",
       "    </tr>\n",
       "  </tbody>\n",
       "</table>\n",
       "</div>"
      ],
      "text/plain": [
       "    DRE       Curso      Nome Gênero Data de Nascimento  Altura  Peso  CRA  \\\n",
       "0   101  Engenharia      João      M         2000-11-15     165    77  7.5   \n",
       "1   102  Engenharia      Igor      M         1998-10-16     175    73  7.0   \n",
       "2   103  Engenharia   Roberto      M         1996-02-23     180    89  6.5   \n",
       "3   104    Medicina      Igor      M         1999-01-25     199    95  8.0   \n",
       "4   105     Direito  Fernando      M         1994-07-25     170    90  8.5   \n",
       "5   106      Música   Marcelo      M         1992-07-10     166    60  9.2   \n",
       "6   107     Direito     Júlia      F         1998-09-01     160    60  8.0   \n",
       "7   108  Engenharia  Gabriela      F         1999-08-01     155    57  7.2   \n",
       "8   109    Medicina   Augusto      M         2000-01-06     182    83  6.5   \n",
       "9   110    Medicina   Marcela      F         1997-12-09     180    80  7.1   \n",
       "10  111  Engenharia    Mateus      M         1999-02-08     185    79  7.3   \n",
       "11  112    Medicina     Jonas      M         1998-12-11     172    75  8.0   \n",
       "12  113  Engenharia   Roberta      F         2000-07-13     160    66  8.0   \n",
       "13  114    Medicina  Angelica      F         1995-12-16     172    70  7.7   \n",
       "14  115      Música     Lucia      F         2000-01-09     164    73  9.5   \n",
       "15  116     Direito  Patricia      F         1996-05-02     170    80  9.0   \n",
       "16  117    Medicina      Luis      M         1998-08-07     183    90  7.5   \n",
       "17  118     Direito    Victor      M         1999-02-22     187    97  8.0   \n",
       "18  119    Medicina     Julia      F         1995-05-28     155    63  8.0   \n",
       "19  120      Música     Romeu      M         2000-01-06     180    77  9.0   \n",
       "20  121    Medicina    Rafael      M         1997-10-11     177    80  8.0   \n",
       "21  122      Música     Joana      F         1995-05-05     160    55  8.5   \n",
       "22  123     Direito   Mariana      F         1998-06-19     164    60  8.0   \n",
       "23  124      Música     Drake      M         1998-12-29     190    90  7.9   \n",
       "24  125      Música  Jennifer      F         2001-11-08     177    88  9.0   \n",
       "25  126  Engenharia   Claudia      F         1997-04-15     170    74  7.7   \n",
       "\n",
       "    Créditos Obtidos  Renda  \n",
       "0                 18   2000  \n",
       "1                 24   1500  \n",
       "2                 26      0  \n",
       "3                 18   1200  \n",
       "4                 22   2500  \n",
       "5                 24   1000  \n",
       "6                 25   1500  \n",
       "7                 20   1300  \n",
       "8                 24      0  \n",
       "9                 22    800  \n",
       "10                22   1500  \n",
       "11                19   1500  \n",
       "12                18   2000  \n",
       "13                22      0  \n",
       "14                20   1000  \n",
       "15                20   3000  \n",
       "16                24   1000  \n",
       "17                23      0  \n",
       "18                20      0  \n",
       "19                22    500  \n",
       "20                18   1000  \n",
       "21                27    800  \n",
       "22                22   2200  \n",
       "23                25      0  \n",
       "24                23   1000  \n",
       "25                18   2500  "
      ]
     },
     "execution_count": 87,
     "metadata": {},
     "output_type": "execute_result"
    }
   ],
   "source": [
    "alunos"
   ]
  },
  {
   "cell_type": "code",
   "execution_count": 5,
   "metadata": {},
   "outputs": [
    {
     "data": {
      "text/plain": [
       "14"
      ]
     },
     "execution_count": 5,
     "metadata": {},
     "output_type": "execute_result"
    }
   ],
   "source": [
    "sum(alunos['Gênero']=='M')"
   ]
  },
  {
   "cell_type": "code",
   "execution_count": 6,
   "metadata": {},
   "outputs": [
    {
     "data": {
      "text/plain": [
       "12"
      ]
     },
     "execution_count": 6,
     "metadata": {},
     "output_type": "execute_result"
    }
   ],
   "source": [
    "sum(alunos['Gênero']=='F')"
   ]
  },
  {
   "cell_type": "code",
   "execution_count": 7,
   "metadata": {},
   "outputs": [
    {
     "data": {
      "text/plain": [
       "<matplotlib.axes._subplots.AxesSubplot at 0x28764fc6148>"
      ]
     },
     "execution_count": 7,
     "metadata": {},
     "output_type": "execute_result"
    },
    {
     "data": {
      "image/png": "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\n",
      "text/plain": [
       "<Figure size 432x288 with 1 Axes>"
      ]
     },
     "metadata": {
      "needs_background": "light"
     },
     "output_type": "display_data"
    }
   ],
   "source": [
    "sns.countplot(x='Gênero',data=alunos)"
   ]
  },
  {
   "cell_type": "code",
   "execution_count": 8,
   "metadata": {},
   "outputs": [
    {
     "data": {
      "text/plain": [
       "7.314285714285715"
      ]
     },
     "execution_count": 8,
     "metadata": {},
     "output_type": "execute_result"
    }
   ],
   "source": [
    "alunos[alunos['Curso']=='Engenharia']['CRA'].mean()"
   ]
  },
  {
   "cell_type": "code",
   "execution_count": 9,
   "metadata": {},
   "outputs": [
    {
     "data": {
      "text/plain": [
       "0.48795003647426666"
      ]
     },
     "execution_count": 9,
     "metadata": {},
     "output_type": "execute_result"
    }
   ],
   "source": [
    "alunos[alunos['Curso']=='Engenharia']['CRA'].std()"
   ]
  },
  {
   "cell_type": "code",
   "execution_count": 10,
   "metadata": {},
   "outputs": [
    {
     "data": {
      "text/plain": [
       "8.85"
      ]
     },
     "execution_count": 10,
     "metadata": {},
     "output_type": "execute_result"
    }
   ],
   "source": [
    "alunos[alunos['Curso']=='Música']['CRA'].mean()"
   ]
  },
  {
   "cell_type": "code",
   "execution_count": 11,
   "metadata": {},
   "outputs": [
    {
     "data": {
      "text/plain": [
       "7.6"
      ]
     },
     "execution_count": 11,
     "metadata": {},
     "output_type": "execute_result"
    }
   ],
   "source": [
    "alunos[alunos['Curso']=='Medicina']['CRA'].mean()"
   ]
  },
  {
   "cell_type": "code",
   "execution_count": 12,
   "metadata": {},
   "outputs": [
    {
     "data": {
      "text/plain": [
       "8.3"
      ]
     },
     "execution_count": 12,
     "metadata": {},
     "output_type": "execute_result"
    }
   ],
   "source": [
    "alunos[alunos['Curso']=='Direito']['CRA'].mean()"
   ]
  },
  {
   "cell_type": "markdown",
   "metadata": {},
   "source": [
    "Percebemos que as notas tendem a ser melhores nos cursos de Música e Direito, enquanto tendem a ser piores nos cursos de Medicina e Engenharia."
   ]
  },
  {
   "cell_type": "markdown",
   "metadata": {},
   "source": [
    "Agora vamos analisar um pouco as quantidades de créditos e se elas interferem em alguma coisa o CRA dos alunos das respectivas matérias:"
   ]
  },
  {
   "cell_type": "code",
   "execution_count": 13,
   "metadata": {},
   "outputs": [
    {
     "data": {
      "text/plain": [
       "<seaborn.axisgrid.FacetGrid at 0x287691d67c8>"
      ]
     },
     "execution_count": 13,
     "metadata": {},
     "output_type": "execute_result"
    },
    {
     "data": {
      "image/png": "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\n",
      "text/plain": [
       "<Figure size 453.125x360 with 1 Axes>"
      ]
     },
     "metadata": {
      "needs_background": "light"
     },
     "output_type": "display_data"
    }
   ],
   "source": [
    "sns.lmplot(x='CRA',y='Créditos Obtidos',data=alunos,hue='Curso')"
   ]
  },
  {
   "cell_type": "markdown",
   "metadata": {},
   "source": [
    "Podemos notar que temos uma relação bem explícita entre esses dois fatores. O CRA independente da matéria tende a diminuir quando o aluno puxa mais créditos em determinado período."
   ]
  },
  {
   "cell_type": "markdown",
   "metadata": {},
   "source": [
    "Vamos agora analisar as rendas dos alunos, e perceber se encontramos algo que justifica o curso e a renda na faculdade:"
   ]
  },
  {
   "cell_type": "code",
   "execution_count": 14,
   "metadata": {},
   "outputs": [],
   "source": [
    "rendaEng=alunos[alunos['Curso']=='Engenharia']['Renda']"
   ]
  },
  {
   "cell_type": "code",
   "execution_count": 15,
   "metadata": {},
   "outputs": [],
   "source": [
    "rendaMed=alunos[alunos['Curso']=='Medicina']['Renda']"
   ]
  },
  {
   "cell_type": "code",
   "execution_count": 16,
   "metadata": {},
   "outputs": [],
   "source": [
    "rendaMus=alunos[alunos['Curso']=='Música']['Renda']"
   ]
  },
  {
   "cell_type": "code",
   "execution_count": 17,
   "metadata": {},
   "outputs": [],
   "source": [
    "rendaDir=alunos[alunos['Curso']=='Direito']['Renda']"
   ]
  },
  {
   "cell_type": "code",
   "execution_count": 18,
   "metadata": {},
   "outputs": [
    {
     "data": {
      "text/plain": [
       "4     2500\n",
       "6     1500\n",
       "15    3000\n",
       "17       0\n",
       "22    2200\n",
       "Name: Renda, dtype: int64"
      ]
     },
     "execution_count": 18,
     "metadata": {},
     "output_type": "execute_result"
    }
   ],
   "source": [
    "rendaDir"
   ]
  },
  {
   "cell_type": "code",
   "execution_count": 19,
   "metadata": {},
   "outputs": [
    {
     "data": {
      "text/plain": [
       "0     2000\n",
       "1     1500\n",
       "2        0\n",
       "7     1300\n",
       "10    1500\n",
       "12    2000\n",
       "25    2500\n",
       "Name: Renda, dtype: int64"
      ]
     },
     "execution_count": 19,
     "metadata": {},
     "output_type": "execute_result"
    }
   ],
   "source": [
    "rendaEng"
   ]
  },
  {
   "cell_type": "code",
   "execution_count": 20,
   "metadata": {},
   "outputs": [
    {
     "data": {
      "text/plain": [
       "5     1000\n",
       "14    1000\n",
       "19     500\n",
       "21     800\n",
       "23       0\n",
       "24    1000\n",
       "Name: Renda, dtype: int64"
      ]
     },
     "execution_count": 20,
     "metadata": {},
     "output_type": "execute_result"
    }
   ],
   "source": [
    "rendaMus"
   ]
  },
  {
   "cell_type": "code",
   "execution_count": 21,
   "metadata": {},
   "outputs": [
    {
     "data": {
      "text/plain": [
       "3     1200\n",
       "8        0\n",
       "9      800\n",
       "11    1500\n",
       "13       0\n",
       "16    1000\n",
       "18       0\n",
       "20    1000\n",
       "Name: Renda, dtype: int64"
      ]
     },
     "execution_count": 21,
     "metadata": {},
     "output_type": "execute_result"
    }
   ],
   "source": [
    "rendaMed"
   ]
  },
  {
   "cell_type": "code",
   "execution_count": 22,
   "metadata": {},
   "outputs": [
    {
     "data": {
      "text/plain": [
       "1542.857142857143"
      ]
     },
     "execution_count": 22,
     "metadata": {},
     "output_type": "execute_result"
    }
   ],
   "source": [
    "alunos[alunos['Curso']=='Engenharia']['Renda'].mean()"
   ]
  },
  {
   "cell_type": "code",
   "execution_count": 23,
   "metadata": {},
   "outputs": [
    {
     "data": {
      "text/plain": [
       "687.5"
      ]
     },
     "execution_count": 23,
     "metadata": {},
     "output_type": "execute_result"
    }
   ],
   "source": [
    "alunos[alunos['Curso']=='Medicina']['Renda'].mean()"
   ]
  },
  {
   "cell_type": "code",
   "execution_count": 24,
   "metadata": {},
   "outputs": [
    {
     "data": {
      "text/plain": [
       "716.6666666666666"
      ]
     },
     "execution_count": 24,
     "metadata": {},
     "output_type": "execute_result"
    }
   ],
   "source": [
    "alunos[alunos['Curso']=='Música']['Renda'].mean()"
   ]
  },
  {
   "cell_type": "code",
   "execution_count": 25,
   "metadata": {},
   "outputs": [
    {
     "data": {
      "text/plain": [
       "1840.0"
      ]
     },
     "execution_count": 25,
     "metadata": {},
     "output_type": "execute_result"
    }
   ],
   "source": [
    "alunos[alunos['Curso']=='Direito']['Renda'].mean()"
   ]
  },
  {
   "cell_type": "markdown",
   "metadata": {},
   "source": [
    "Podemos perceber a partir dessa análise que temos uma maior presença de alunos sem renda em medicina, isso deve ser pelo fato de estágios não serem tão comuns nesse curso em comparação com os outros."
   ]
  },
  {
   "cell_type": "markdown",
   "metadata": {},
   "source": [
    "Será que podemos explicar essa renda dos alunos a partir do seu CRA?"
   ]
  },
  {
   "cell_type": "code",
   "execution_count": 26,
   "metadata": {},
   "outputs": [
    {
     "data": {
      "text/plain": [
       "<seaborn.axisgrid.FacetGrid at 0x287692bf188>"
      ]
     },
     "execution_count": 26,
     "metadata": {},
     "output_type": "execute_result"
    },
    {
     "data": {
      "image/png": "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\n",
      "text/plain": [
       "<Figure size 453.125x360 with 1 Axes>"
      ]
     },
     "metadata": {
      "needs_background": "light"
     },
     "output_type": "display_data"
    }
   ],
   "source": [
    "sns.lmplot(x='CRA',y='Renda',data=alunos,hue='Curso')"
   ]
  },
  {
   "cell_type": "markdown",
   "metadata": {},
   "source": [
    "Fica nítido a partir da regressão linear que temos um aumento da renda dependendo do CRA do aluno nas matérias de Engenharia e Direito. Ou seja, dependendo do CRA, provavelmente, o aluno está em um estágio que venha a pagar mais.\n",
    "\n",
    "Por outro lado podemos perceber que os alunos de música possuem uma renda parecida independentemente do seu CRA, maioria entre 500 e 1000. Assim como os alunos de Medicina, que todos que recebem estão na faixa dos 1000 reais. \n",
    "\n"
   ]
  },
  {
   "cell_type": "markdown",
   "metadata": {},
   "source": [
    "Por ser uma amostra pequena não temos uma certeza tão grande obviamente, porém são indícios do que provavelmente acontece."
   ]
  },
  {
   "cell_type": "code",
   "execution_count": 27,
   "metadata": {},
   "outputs": [
    {
     "data": {
      "text/plain": [
       "<seaborn.axisgrid.FacetGrid at 0x2876934f888>"
      ]
     },
     "execution_count": 27,
     "metadata": {},
     "output_type": "execute_result"
    },
    {
     "data": {
      "image/png": "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\n",
      "text/plain": [
       "<Figure size 453.125x360 with 1 Axes>"
      ]
     },
     "metadata": {
      "needs_background": "light"
     },
     "output_type": "display_data"
    }
   ],
   "source": [
    "sns.lmplot(x='CRA',y='Peso',data=alunos,hue='Curso')"
   ]
  },
  {
   "cell_type": "markdown",
   "metadata": {},
   "source": [
    "Podemos perceber que o Peso dos alunos em nada influencia o CRA dos mesmos.\n",
    "\n",
    "Para visualizar todas as variáveis e as regressões que elas possuem entre si, podemos analisar o jointplot."
   ]
 
   
