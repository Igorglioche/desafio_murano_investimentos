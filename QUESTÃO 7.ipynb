{
 "cells": [
  {
   "cell_type": "code",
   "execution_count": 2,
   "metadata": {},
   "outputs": [],
   "source": [
    "import pandas as pd\n",
    "import numpy as np\n",
    "import seaborn as sns \n",
    "import matplotlib.pyplot as plt\n",
    "#matplotlib inline"
   ]
  },
  {
   "cell_type": "markdown",
   "metadata": {},
   "source": [
    "Criando o dataframe \"alunos\":\n",
    "Estou puxando de um arquivo de excel(.xlsx):\n"
   ]
  },
  {
   "cell_type": "code",
   "execution_count": 3,
   "metadata": {},
   "outputs": [],
   "source": [
    "alunos = pd.read_excel('alunos.xlsx')"
   ]
  },
  {
   "cell_type": "code",
   "execution_count": 4,
   "metadata": {
    "scrolled": false
   },
   "outputs": [
    {
     "name": "stdout",
     "output_type": "stream",
     "text": [
      "<class 'pandas.core.frame.DataFrame'>\n",
      "RangeIndex: 26 entries, 0 to 25\n",
      "Data columns (total 10 columns):\n",
      " #   Column              Non-Null Count  Dtype         \n",
      "---  ------              --------------  -----         \n",
      " 0   DRE                 26 non-null     int64         \n",
      " 1   Curso               26 non-null     object        \n",
      " 2   Nome                26 non-null     object        \n",
      " 3   Gênero              26 non-null     object        \n",
      " 4   Data de Nascimento  26 non-null     datetime64[ns]\n",
      " 5   Altura              26 non-null     int64         \n",
      " 6   Peso                26 non-null     int64         \n",
      " 7   CRA                 26 non-null     float64       \n",
      " 8   Créditos Obtidos    26 non-null     int64         \n",
      " 9   Renda               26 non-null     int64         \n",
      "dtypes: datetime64[ns](1), float64(1), int64(5), object(3)\n",
      "memory usage: 2.2+ KB\n"
     ]
    }
   ],
   "source": [
    "alunos.info()"
   ]
  },
  {
   "cell_type": "code",
   "execution_count": 87,
   "metadata": {},
   "outputs": [
    {
     "data": {
      "text/html": [
       "<div>\n",
       "<style scoped>\n",
       "    .dataframe tbody tr th:only-of-type {\n",
       "        vertical-align: middle;\n",
       "    }\n",
       "\n",
       "    .dataframe tbody tr th {\n",
       "        vertical-align: top;\n",
       "    }\n",
       "\n",
       "    .dataframe thead th {\n",
       "        text-align: right;\n",
       "    }\n",
       "</style>\n",
       "<table border=\"1\" class=\"dataframe\">\n",
       "  <thead>\n",
       "    <tr style=\"text-align: right;\">\n",
       "      <th></th>\n",
       "      <th>DRE</th>\n",
       "      <th>Curso</th>\n",
       "      <th>Nome</th>\n",
       "      <th>Gênero</th>\n",
       "      <th>Data de Nascimento</th>\n",
       "      <th>Altura</th>\n",
       "      <th>Peso</th>\n",
       "      <th>CRA</th>\n",
       "      <th>Créditos Obtidos</th>\n",
       "      <th>Renda</th>\n",
       "    </tr>\n",
       "  </thead>\n",
       "  <tbody>\n",
       "    <tr>\n",
       "      <th>0</th>\n",
       "      <td>101</td>\n",
       "      <td>Engenharia</td>\n",
       "      <td>João</td>\n",
       "      <td>M</td>\n",
       "      <td>2000-11-15</td>\n",
       "      <td>165</td>\n",
       "      <td>77</td>\n",
       "      <td>7.5</td>\n",
       "      <td>18</td>\n",
       "      <td>2000</td>\n",
       "    </tr>\n",
       "    <tr>\n",
       "      <th>1</th>\n",
       "      <td>102</td>\n",
       "      <td>Engenharia</td>\n",
       "      <td>Igor</td>\n",
       "      <td>M</td>\n",
       "      <td>1998-10-16</td>\n",
       "      <td>175</td>\n",
       "      <td>73</td>\n",
       "      <td>7.0</td>\n",
       "      <td>24</td>\n",
       "      <td>1500</td>\n",
       "    </tr>\n",
       "    <tr>\n",
       "      <th>2</th>\n",
       "      <td>103</td>\n",
       "      <td>Engenharia</td>\n",
       "      <td>Roberto</td>\n",
       "      <td>M</td>\n",
       "      <td>1996-02-23</td>\n",
       "      <td>180</td>\n",
       "      <td>89</td>\n",
       "      <td>6.5</td>\n",
       "      <td>26</td>\n",
       "      <td>0</td>\n",
       "    </tr>\n",
       "    <tr>\n",
       "      <th>3</th>\n",
       "      <td>104</td>\n",
       "      <td>Medicina</td>\n",
       "      <td>Igor</td>\n",
       "      <td>M</td>\n",
       "      <td>1999-01-25</td>\n",
       "      <td>199</td>\n",
       "      <td>95</td>\n",
       "      <td>8.0</td>\n",
       "      <td>18</td>\n",
       "      <td>1200</td>\n",
       "    </tr>\n",
       "    <tr>\n",
       "      <th>4</th>\n",
       "      <td>105</td>\n",
       "      <td>Direito</td>\n",
       "      <td>Fernando</td>\n",
       "      <td>M</td>\n",
       "      <td>1994-07-25</td>\n",
       "      <td>170</td>\n",
       "      <td>90</td>\n",
       "      <td>8.5</td>\n",
       "      <td>22</td>\n",
       "      <td>2500</td>\n",
       "    </tr>\n",
       "    <tr>\n",
       "      <th>5</th>\n",
       "      <td>106</td>\n",
       "      <td>Música</td>\n",
       "      <td>Marcelo</td>\n",
       "      <td>M</td>\n",
       "      <td>1992-07-10</td>\n",
       "      <td>166</td>\n",
       "      <td>60</td>\n",
       "      <td>9.2</td>\n",
       "      <td>24</td>\n",
       "      <td>1000</td>\n",
       "    </tr>\n",
       "    <tr>\n",
       "      <th>6</th>\n",
       "      <td>107</td>\n",
       "      <td>Direito</td>\n",
       "      <td>Júlia</td>\n",
       "      <td>F</td>\n",
       "      <td>1998-09-01</td>\n",
       "      <td>160</td>\n",
       "      <td>60</td>\n",
       "      <td>8.0</td>\n",
       "      <td>25</td>\n",
       "      <td>1500</td>\n",
       "    </tr>\n",
       "    <tr>\n",
       "      <th>7</th>\n",
       "      <td>108</td>\n",
       "      <td>Engenharia</td>\n",
       "      <td>Gabriela</td>\n",
       "      <td>F</td>\n",
       "      <td>1999-08-01</td>\n",
       "      <td>155</td>\n",
       "      <td>57</td>\n",
       "      <td>7.2</td>\n",
       "      <td>20</td>\n",
       "      <td>1300</td>\n",
       "    </tr>\n",
       "    <tr>\n",
       "      <th>8</th>\n",
       "      <td>109</td>\n",
       "      <td>Medicina</td>\n",
       "      <td>Augusto</td>\n",
       "      <td>M</td>\n",
       "      <td>2000-01-06</td>\n",
       "      <td>182</td>\n",
       "      <td>83</td>\n",
       "      <td>6.5</td>\n",
       "      <td>24</td>\n",
       "      <td>0</td>\n",
       "    </tr>\n",
       "    <tr>\n",
       "      <th>9</th>\n",
       "      <td>110</td>\n",
       "      <td>Medicina</td>\n",
       "      <td>Marcela</td>\n",
       "      <td>F</td>\n",
       "      <td>1997-12-09</td>\n",
       "      <td>180</td>\n",
       "      <td>80</td>\n",
       "      <td>7.1</td>\n",
       "      <td>22</td>\n",
       "      <td>800</td>\n",
       "    </tr>\n",
       "    <tr>\n",
       "      <th>10</th>\n",
       "      <td>111</td>\n",
       "      <td>Engenharia</td>\n",
       "      <td>Mateus</td>\n",
       "      <td>M</td>\n",
       "      <td>1999-02-08</td>\n",
       "      <td>185</td>\n",
       "      <td>79</td>\n",
       "      <td>7.3</td>\n",
       "      <td>22</td>\n",
       "      <td>1500</td>\n",
       "    </tr>\n",
       "    <tr>\n",
       "      <th>11</th>\n",
       "      <td>112</td>\n",
       "      <td>Medicina</td>\n",
       "      <td>Jonas</td>\n",
       "      <td>M</td>\n",
       "      <td>1998-12-11</td>\n",
       "      <td>172</td>\n",
       "      <td>75</td>\n",
       "      <td>8.0</td>\n",
       "      <td>19</td>\n",
       "      <td>1500</td>\n",
       "    </tr>\n",
       "    <tr>\n",
       "      <th>12</th>\n",
       "      <td>113</td>\n",
       "      <td>Engenharia</td>\n",
       "      <td>Roberta</td>\n",
       "      <td>F</td>\n",
       "      <td>2000-07-13</td>\n",
       "      <td>160</td>\n",
       "      <td>66</td>\n",
       "      <td>8.0</td>\n",
       "      <td>18</td>\n",
       "      <td>2000</td>\n",
       "    </tr>\n",
       "    <tr>\n",
       "      <th>13</th>\n",
       "      <td>114</td>\n",
       "      <td>Medicina</td>\n",
       "      <td>Angelica</td>\n",
       "      <td>F</td>\n",
       "      <td>1995-12-16</td>\n",
       "      <td>172</td>\n",
       "      <td>70</td>\n",
       "      <td>7.7</td>\n",
       "      <td>22</td>\n",
       "      <td>0</td>\n",
       "    </tr>\n",
       "    <tr>\n",
       "      <th>14</th>\n",
       "      <td>115</td>\n",
       "      <td>Música</td>\n",
       "      <td>Lucia</td>\n",
       "      <td>F</td>\n",
       "      <td>2000-01-09</td>\n",
       "      <td>164</td>\n",
       "      <td>73</td>\n",
       "      <td>9.5</td>\n",
       "      <td>20</td>\n",
       "      <td>1000</td>\n",
       "    </tr>\n",
       "    <tr>\n",
       "      <th>15</th>\n",
       "      <td>116</td>\n",
       "      <td>Direito</td>\n",
       "      <td>Patricia</td>\n",
       "      <td>F</td>\n",
       "      <td>1996-05-02</td>\n",
       "      <td>170</td>\n",
       "      <td>80</td>\n",
       "      <td>9.0</td>\n",
       "      <td>20</td>\n",
       "      <td>3000</td>\n",
       "    </tr>\n",
       "    <tr>\n",
       "      <th>16</th>\n",
       "      <td>117</td>\n",
       "      <td>Medicina</td>\n",
       "      <td>Luis</td>\n",
       "      <td>M</td>\n",
       "      <td>1998-08-07</td>\n",
       "      <td>183</td>\n",
       "      <td>90</td>\n",
       "      <td>7.5</td>\n",
       "      <td>24</td>\n",
       "      <td>1000</td>\n",
       "    </tr>\n",
       "    <tr>\n",
       "      <th>17</th>\n",
       "      <td>118</td>\n",
       "      <td>Direito</td>\n",
       "      <td>Victor</td>\n",
       "      <td>M</td>\n",
       "      <td>1999-02-22</td>\n",
       "      <td>187</td>\n",
       "      <td>97</td>\n",
       "      <td>8.0</td>\n",
       "      <td>23</td>\n",
       "      <td>0</td>\n",
       "    </tr>\n",
       "    <tr>\n",
       "      <th>18</th>\n",
       "      <td>119</td>\n",
       "      <td>Medicina</td>\n",
       "      <td>Julia</td>\n",
       "      <td>F</td>\n",
       "      <td>1995-05-28</td>\n",
       "      <td>155</td>\n",
       "      <td>63</td>\n",
       "      <td>8.0</td>\n",
       "      <td>20</td>\n",
       "      <td>0</td>\n",
       "    </tr>\n",
       "    <tr>\n",
       "      <th>19</th>\n",
       "      <td>120</td>\n",
       "      <td>Música</td>\n",
       "      <td>Romeu</td>\n",
       "      <td>M</td>\n",
       "      <td>2000-01-06</td>\n",
       "      <td>180</td>\n",
       "      <td>77</td>\n",
       "      <td>9.0</td>\n",
       "      <td>22</td>\n",
       "      <td>500</td>\n",
       "    </tr>\n",
       "    <tr>\n",
       "      <th>20</th>\n",
       "      <td>121</td>\n",
       "      <td>Medicina</td>\n",
       "      <td>Rafael</td>\n",
       "      <td>M</td>\n",
       "      <td>1997-10-11</td>\n",
       "      <td>177</td>\n",
       "      <td>80</td>\n",
       "      <td>8.0</td>\n",
       "      <td>18</td>\n",
       "      <td>1000</td>\n",
       "    </tr>\n",
       "    <tr>\n",
       "      <th>21</th>\n",
       "      <td>122</td>\n",
       "      <td>Música</td>\n",
       "      <td>Joana</td>\n",
       "      <td>F</td>\n",
       "      <td>1995-05-05</td>\n",
       "      <td>160</td>\n",
       "      <td>55</td>\n",
       "      <td>8.5</td>\n",
       "      <td>27</td>\n",
       "      <td>800</td>\n",
       "    </tr>\n",
       "    <tr>\n",
       "      <th>22</th>\n",
       "      <td>123</td>\n",
       "      <td>Direito</td>\n",
       "      <td>Mariana</td>\n",
       "      <td>F</td>\n",
       "      <td>1998-06-19</td>\n",
       "      <td>164</td>\n",
       "      <td>60</td>\n",
       "      <td>8.0</td>\n",
       "      <td>22</td>\n",
       "      <td>2200</td>\n",
       "    </tr>\n",
       "    <tr>\n",
       "      <th>23</th>\n",
       "      <td>124</td>\n",
       "      <td>Música</td>\n",
       "      <td>Drake</td>\n",
       "      <td>M</td>\n",
       "      <td>1998-12-29</td>\n",
       "      <td>190</td>\n",
       "      <td>90</td>\n",
       "      <td>7.9</td>\n",
       "      <td>25</td>\n",
       "      <td>0</td>\n",
       "    </tr>\n",
       "    <tr>\n",
       "      <th>24</th>\n",
       "      <td>125</td>\n",
       "      <td>Música</td>\n",
       "      <td>Jennifer</td>\n",
       "      <td>F</td>\n",
       "      <td>2001-11-08</td>\n",
       "      <td>177</td>\n",
       "      <td>88</td>\n",
       "      <td>9.0</td>\n",
       "      <td>23</td>\n",
       "      <td>1000</td>\n",
       "    </tr>\n",
       "    <tr>\n",
       "      <th>25</th>\n",
       "      <td>126</td>\n",
       "      <td>Engenharia</td>\n",
       "      <td>Claudia</td>\n",
       "      <td>F</td>\n",
       "      <td>1997-04-15</td>\n",
       "      <td>170</td>\n",
       "      <td>74</td>\n",
       "      <td>7.7</td>\n",
       "      <td>18</td>\n",
       "      <td>2500</td>\n",
       "    </tr>\n",
       "  </tbody>\n",
       "</table>\n",
       "</div>"
      ],
      "text/plain": [
       "    DRE       Curso      Nome Gênero Data de Nascimento  Altura  Peso  CRA  \\\n",
       "0   101  Engenharia      João      M         2000-11-15     165    77  7.5   \n",
       "1   102  Engenharia      Igor      M         1998-10-16     175    73  7.0   \n",
       "2   103  Engenharia   Roberto      M         1996-02-23     180    89  6.5   \n",
       "3   104    Medicina      Igor      M         1999-01-25     199    95  8.0   \n",
       "4   105     Direito  Fernando      M         1994-07-25     170    90  8.5   \n",
       "5   106      Música   Marcelo      M         1992-07-10     166    60  9.2   \n",
       "6   107     Direito     Júlia      F         1998-09-01     160    60  8.0   \n",
       "7   108  Engenharia  Gabriela      F         1999-08-01     155    57  7.2   \n",
       "8   109    Medicina   Augusto      M         2000-01-06     182    83  6.5   \n",
       "9   110    Medicina   Marcela      F         1997-12-09     180    80  7.1   \n",
       "10  111  Engenharia    Mateus      M         1999-02-08     185    79  7.3   \n",
       "11  112    Medicina     Jonas      M         1998-12-11     172    75  8.0   \n",
       "12  113  Engenharia   Roberta      F         2000-07-13     160    66  8.0   \n",
       "13  114    Medicina  Angelica      F         1995-12-16     172    70  7.7   \n",
       "14  115      Música     Lucia      F         2000-01-09     164    73  9.5   \n",
       "15  116     Direito  Patricia      F         1996-05-02     170    80  9.0   \n",
       "16  117    Medicina      Luis      M         1998-08-07     183    90  7.5   \n",
       "17  118     Direito    Victor      M         1999-02-22     187    97  8.0   \n",
       "18  119    Medicina     Julia      F         1995-05-28     155    63  8.0   \n",
       "19  120      Música     Romeu      M         2000-01-06     180    77  9.0   \n",
       "20  121    Medicina    Rafael      M         1997-10-11     177    80  8.0   \n",
       "21  122      Música     Joana      F         1995-05-05     160    55  8.5   \n",
       "22  123     Direito   Mariana      F         1998-06-19     164    60  8.0   \n",
       "23  124      Música     Drake      M         1998-12-29     190    90  7.9   \n",
       "24  125      Música  Jennifer      F         2001-11-08     177    88  9.0   \n",
       "25  126  Engenharia   Claudia      F         1997-04-15     170    74  7.7   \n",
       "\n",
       "    Créditos Obtidos  Renda  \n",
       "0                 18   2000  \n",
       "1                 24   1500  \n",
       "2                 26      0  \n",
       "3                 18   1200  \n",
       "4                 22   2500  \n",
       "5                 24   1000  \n",
       "6                 25   1500  \n",
       "7                 20   1300  \n",
       "8                 24      0  \n",
       "9                 22    800  \n",
       "10                22   1500  \n",
       "11                19   1500  \n",
       "12                18   2000  \n",
       "13                22      0  \n",
       "14                20   1000  \n",
       "15                20   3000  \n",
       "16                24   1000  \n",
       "17                23      0  \n",
       "18                20      0  \n",
       "19                22    500  \n",
       "20                18   1000  \n",
       "21                27    800  \n",
       "22                22   2200  \n",
       "23                25      0  \n",
       "24                23   1000  \n",
       "25                18   2500  "
      ]
     },
     "execution_count": 87,
     "metadata": {},
     "output_type": "execute_result"
    }
   ],
   "source": [
    "alunos"
   ]
  },
  {
   "cell_type": "code",
   "execution_count": 5,
   "metadata": {},
   "outputs": [
    {
     "data": {
      "text/plain": [
       "14"
      ]
     },
     "execution_count": 5,
     "metadata": {},
     "output_type": "execute_result"
    }
   ],
   "source": [
    "sum(alunos['Gênero']=='M')"
   ]
  },
  {
   "cell_type": "code",
   "execution_count": 6,
   "metadata": {},
   "outputs": [
    {
     "data": {
      "text/plain": [
       "12"
      ]
     },
     "execution_count": 6,
     "metadata": {},
     "output_type": "execute_result"
    }
   ],
   "source": [
    "sum(alunos['Gênero']=='F')"
   ]
  },
  {
   "cell_type": "code",
   "execution_count": 7,
   "metadata": {},
   "outputs": [
    {
     "data": {
      "text/plain": [
       "<matplotlib.axes._subplots.AxesSubplot at 0x28764fc6148>"
      ]
     },
     "execution_count": 7,
     "metadata": {},
     "output_type": "execute_result"
    },
    {
     "data": {
      "image/png": "[encoded data removed]",
      "text/plain": [
       "<Figure size 432x288 with 1 Axes>"
      ]
     },
     "metadata": {
      "needs_background": "light"
     },
     "output_type": "display_data"
    }
   ],
   "source": [
    "sns.countplot(x='Gênero',data=alunos)"
   ]
  },
  {
   "cell_type": "code",
   "execution_count": 8,
   "metadata": {},
   "outputs": [
    {
     "data": {
      "text/plain": [
       "7.314285714285715"
      ]
     },
     "execution_count": 8,
     "metadata": {},
     "output_type": "execute_result"
    }
   ],
   "source": [
    "alunos[alunos['Curso']=='Engenharia']['CRA'].mean()"
   ]
  },
  {
   "cell_type": "code",
   "execution_count": 9,
   "metadata": {},
   "outputs": [
    {
     "data": {
      "text/plain": [
       "0.48795003647426666"
      ]
     },
     "execution_count": 9,
     "metadata": {},
     "output_type": "execute_result"
    }
   ],
   "source": [
    "alunos[alunos['Curso']=='Engenharia']['CRA'].std()"
   ]
  },
  {
   "cell_type": "code",
   "execution_count": 10,
   "metadata": {},
   "outputs": [
    {
     "data": {
      "text/plain": [
       "8.85"
      ]
     },
     "execution_count": 10,
     "metadata": {},
     "output_type": "execute_result"
    }
   ],
   "source": [
    "alunos[alunos['Curso']=='Música']['CRA'].mean()"
   ]
  },
  {
   "cell_type": "code",
   "execution_count": 11,
   "metadata": {},
   "outputs": [
    {
     "data": {
      "text/plain": [
       "7.6"
      ]
     },
     "execution_count": 11,
     "metadata": {},
     "output_type": "execute_result"
    }
   ],
   "source": [
    "alunos[alunos['Curso']=='Medicina']['CRA'].mean()"
   ]
  },
  {
   "cell_type": "code",
   "execution_count": 12,
   "metadata": {},
   "outputs": [
    {
     "data": {
      "text/plain": [
       "8.3"
      ]
     },
     "execution_count": 12,
     "metadata": {},
     "output_type": "execute_result"
    }
   ],
   "source": [
    "alunos[alunos['Curso']=='Direito']['CRA'].mean()"
   ]
  },
  {
   "cell_type": "markdown",
   "metadata": {},
   "source": [
    "Percebemos que as notas tendem a ser melhores nos cursos de Música e Direito, enquanto tendem a ser piores nos cursos de Medicina e Engenharia."
   ]
  },
  {
   "cell_type": "markdown",
   "metadata": {},
   "source": [
    "Agora vamos analisar um pouco as quantidades de créditos e se elas interferem em alguma coisa o CRA dos alunos das respectivas matérias:"
   ]
  },
  {
   "cell_type": "code",
   "execution_count": 13,
   "metadata": {},
   "outputs": [
    {
     "data": {
      "text/plain": [
       "<seaborn.axisgrid.FacetGrid at 0x287691d67c8>"
      ]
     },
     "execution_count": 13,
     "metadata": {},
     "output_type": "execute_result"
    },
    {
     "data": {
      "image/png": "[encoded data removed]",
      "text/plain": [
       "<Figure size 453.125x360 with 1 Axes>"
      ]
     },
     "metadata": {
      "needs_background": "light"
     },
     "output_type": "display_data"
    }
   ],
   "source": [
    "sns.lmplot(x='CRA',y='Créditos Obtidos',data=alunos,hue='Curso')"
   ]
  },
  {
   "cell_type": "markdown",
   "metadata": {},
   "source": [
    "Podemos notar que temos uma relação bem explícita entre esses dois fatores. O CRA independente da matéria tende a diminuir quando o aluno puxa mais créditos em determinado período."
   ]
  },
  {
   "cell_type": "markdown",
   "metadata": {},
   "source": [
    "Vamos agora analisar as rendas dos alunos, e perceber se encontramos algo que justifica o curso e a renda na faculdade:"
   ]
  },
  {
   "cell_type": "code",
   "execution_count": 14,
   "metadata": {},
   "outputs": [],
   "source": [
    "rendaEng=alunos[alunos['Curso']=='Engenharia']['Renda']"
   ]
  },
  {
   "cell_type": "code",
   "execution_count": 15,
   "metadata": {},
   "outputs": [],
   "source": [
    "rendaMed=alunos[alunos['Curso']=='Medicina']['Renda']"
   ]
  },
  {
   "cell_type": "code",
   "execution_count": 16,
   "metadata": {},
   "outputs": [],
   "source": [
    "rendaMus=alunos[alunos['Curso']=='Música']['Renda']"
   ]
  },
  {
   "cell_type": "code",
   "execution_count": 17,
   "metadata": {},
   "outputs": [],
   "source": [
    "rendaDir=alunos[alunos['Curso']=='Direito']['Renda']"
   ]
  },
  {
   "cell_type": "code",
   "execution_count": 18,
   "metadata": {},
   "outputs": [
    {
     "data": {
      "text/plain": [
       "4     2500\n",
       "6     1500\n",
       "15    3000\n",
       "17       0\n",
       "22    2200\n",
       "Name: Renda, dtype: int64"
      ]
     },
     "execution_count": 18,
     "metadata": {},
     "output_type": "execute_result"
    }
   ],
   "source": [
    "rendaDir"
   ]
  },
  {
   "cell_type": "code",
   "execution_count": 19,
   "metadata": {},
   "outputs": [
    {
     "data": {
      "text/plain": [
       "0     2000\n",
       "1     1500\n",
       "2        0\n",
       "7     1300\n",
       "10    1500\n",
       "12    2000\n",
       "25    2500\n",
       "Name: Renda, dtype: int64"
      ]
     },
     "execution_count": 19,
     "metadata": {},
     "output_type": "execute_result"
    }
   ],
   "source": [
    "rendaEng"
   ]
  },
  {
   "cell_type": "code",
   "execution_count": 20,
   "metadata": {},
   "outputs": [
    {
     "data": {
      "text/plain": [
       "5     1000\n",
       "14    1000\n",
       "19     500\n",
       "21     800\n",
       "23       0\n",
       "24    1000\n",
       "Name: Renda, dtype: int64"
      ]
     },
     "execution_count": 20,
     "metadata": {},
     "output_type": "execute_result"
    }
   ],
   "source": [
    "rendaMus"
   ]
  },
  {
   "cell_type": "code",
   "execution_count": 21,
   "metadata": {},
   "outputs": [
    {
     "data": {
      "text/plain": [
       "3     1200\n",
       "8        0\n",
       "9      800\n",
       "11    1500\n",
       "13       0\n",
       "16    1000\n",
       "18       0\n",
       "20    1000\n",
       "Name: Renda, dtype: int64"
      ]
     },
     "execution_count": 21,
     "metadata": {},
     "output_type": "execute_result"
    }
   ],
   "source": [
    "rendaMed"
   ]
  },
  {
   "cell_type": "code",
   "execution_count": 22,
   "metadata": {},
   "outputs": [
    {
     "data": {
      "text/plain": [
       "1542.857142857143"
      ]
     },
     "execution_count": 22,
     "metadata": {},
     "output_type": "execute_result"
    }
   ],
   "source": [
    "alunos[alunos['Curso']=='Engenharia']['Renda'].mean()"
   ]
  },
  {
   "cell_type": "code",
   "execution_count": 23,
   "metadata": {},
   "outputs": [
    {
     "data": {
      "text/plain": [
       "687.5"
      ]
     },
     "execution_count": 23,
     "metadata": {},
     "output_type": "execute_result"
    }
   ],
   "source": [
    "alunos[alunos['Curso']=='Medicina']['Renda'].mean()"
   ]
  },
  {
   "cell_type": "code",
   "execution_count": 24,
   "metadata": {},
   "outputs": [
    {
     "data": {
      "text/plain": [
       "716.6666666666666"
      ]
     },
     "execution_count": 24,
     "metadata": {},
     "output_type": "execute_result"
    }
   ],
   "source": [
    "alunos[alunos['Curso']=='Música']['Renda'].mean()"
   ]
  },
  {
   "cell_type": "code",
   "execution_count": 25,
   "metadata": {},
   "outputs": [
    {
     "data": {
      "text/plain": [
       "1840.0"
      ]
     },
     "execution_count": 25,
     "metadata": {},
     "output_type": "execute_result"
    }
   ],
   "source": [
    "alunos[alunos['Curso']=='Direito']['Renda'].mean()"
   ]
  },
  {
   "cell_type": "markdown",
   "metadata": {},
   "source": [
    "Podemos perceber a partir dessa análise que temos uma maior presença de alunos sem renda em medicina, isso deve ser pelo fato de estágios não serem tão comuns nesse curso em comparação com os outros."
   ]
  },
  {
   "cell_type": "markdown",
   "metadata": {},
   "source": [
    "Será que podemos explicar essa renda dos alunos a partir do seu CRA?"
   ]
  },
  {
   "cell_type": "code",
   "execution_count": 26,
   "metadata": {},
   "outputs": [
    {
     "data": {
      "text/plain": [
       "<seaborn.axisgrid.FacetGrid at 0x287692bf188>"
      ]
     },
     "execution_count": 26,
     "metadata": {},
     "output_type": "execute_result"
    },
    {
     "data": {
      "image/png": "[encoded data removed]",
      "text/plain": [
       "<Figure size 453.125x360 with 1 Axes>"
      ]
     },
     "metadata": {
      "needs_background": "light"
     },
     "output_type": "display_data"
    }
   ],
   "source": [
    "sns.lmplot(x='CRA',y='Renda',data=alunos,hue='Curso')"
   ]
  },
  {
   "cell_type": "markdown",
   "metadata": {},
   "source": [
    "Fica nítido a partir da regressão linear que temos um aumento da renda dependendo do CRA do aluno nas matérias de Engenharia e Direito. Ou seja, dependendo do CRA, provavelmente, o aluno está em um estágio que venha a pagar mais.\n",
    "\n",
    "Por outro lado podemos perceber que os alunos de música possuem uma renda parecida independentemente do seu CRA, maioria entre 500 e 1000. Assim como os alunos de Medicina, que todos que recebem estão na faixa dos 1000 reais. \n",
    "\n"
   ]
  },
  {
   "cell_type": "markdown",
   "metadata": {},
   "source": [
    "Por ser uma amostra pequena não temos uma certeza tão grande obviamente, porém são indícios do que provavelmente acontece."
   ]
  },
  {
   "cell_type": "code",
   "execution_count": 29,
   "metadata": {},
   "outputs": [
    {
     "data": {
      "text/plain": [
       "<seaborn.axisgrid.FacetGrid at 0x28769420708>"
      ]
     },
     "execution_count": 29,
     "metadata": {},
     "output_type": "execute_result"
    },
    {
     "data": {
      "image/png": "[encoded data removed]",
      "text/plain": [
       "<Figure size 453.125x360 with 1 Axes>"
      ]
     },
     "metadata": {
      "needs_background": "light"
     },
     "output_type": "display_data"
    }
   ],
   "source": [
    "sns.lmplot(x='CRA',y='Peso',data=alunos,hue='Curso')"
   ]
  },
  {
   "cell_type": "markdown",
   "metadata": {},
   "source": [
    "Podemos perceber que o Peso dos alunos em nada influencia o CRA dos mesmos.\n",
    "\n",
    "Para visualizar todas as variáveis e as regressões que elas possuem entre si, podemos analisar o jointplot."
   ]
  },
  {
   "cell_type": "code",
   "execution_count": null,
   "metadata": {},
   "outputs": [],
   "source": []
  },
  {
   "cell_type": "code",
   "execution_count": null,
   "metadata": {},
   "outputs": [],
   "source": []
  }
 ],
 "metadata": {
  "kernelspec": {
   "display_name": "Python 3",
   "language": "python",
   "name": "python3"
  },
  "language_info": {
   "codemirror_mode": {
    "name": "ipython",
    "version": 3
   },
   "file_extension": ".py",
   "mimetype": "text/x-python",
   "name": "python",
   "nbconvert_exporter": "python",
   "pygments_lexer": "ipython3",
   "version": "3.7.6"
  }
 },
 "nbformat": 4,
 "nbformat_minor": 4
}
